{
  "nbformat": 4,
  "nbformat_minor": 0,
  "metadata": {
    "colab": {
      "provenance": [],
      "authorship_tag": "ABX9TyNt3Y8snzOANPfytFe3gin5",
      "include_colab_link": true
    },
    "kernelspec": {
      "name": "python3",
      "display_name": "Python 3"
    },
    "language_info": {
      "name": "python"
    }
  },
  "cells": [
    {
      "cell_type": "markdown",
      "metadata": {
        "id": "view-in-github",
        "colab_type": "text"
      },
      "source": [
        "<a href=\"https://colab.research.google.com/github/allenlotusss10-del/charge-ai-project/blob/main/Untitled0.ipynb\" target=\"_parent\"><img src=\"https://colab.research.google.com/assets/colab-badge.svg\" alt=\"Open In Colab\"/></a>"
      ]
    },
    {
      "cell_type": "markdown",
      "source": [
        "**Import Libraries**"
      ],
      "metadata": {
        "id": "3GjGCN0mWRnU"
      }
    },
    {
      "cell_type": "code",
      "execution_count": null,
      "metadata": {
        "id": "eLsyhXMDQ0d5"
      },
      "outputs": [],
      "source": [
        "import pandas as pd\n",
        "import numpy as np\n",
        "import matplotlib.pyplot as plt\n",
        "import seaborn as sns\n",
        "\n",
        "from sklearn.model_selection import train_test_split\n",
        "from sklearn.linear_model import LogisticRegression\n",
        "from sklearn.ensemble import RandomForestClassifier\n",
        "from sklearn.metrics import accuracy_score, confusion_matrix, classification_report"
      ]
    },
    {
      "cell_type": "markdown",
      "source": [
        "**Load Dataset**"
      ],
      "metadata": {
        "id": "_BeiJF0hWSdP"
      }
    },
    {
      "cell_type": "code",
      "source": [
        "df = pd.read_csv(\"data.csv\")\n",
        "print(\"Shape of dataset:\", df.shape)\n",
        "print(df.head())"
      ],
      "metadata": {
        "colab": {
          "base_uri": "https://localhost:8080/"
        },
        "id": "LBTddtPaS8XQ",
        "outputId": "fcff268a-7cd7-4559-9c4f-695c6ec6c2ea"
      },
      "execution_count": null,
      "outputs": [
        {
          "output_type": "stream",
          "name": "stdout",
          "text": [
            "Shape of dataset: (195, 14)\n",
            "   danceability  energy  key  loudness  mode  speechiness  acousticness  \\\n",
            "0         0.803  0.6240    7    -6.764     0       0.0477         0.451   \n",
            "1         0.762  0.7030   10    -7.951     0       0.3060         0.206   \n",
            "2         0.261  0.0149    1   -27.528     1       0.0419         0.992   \n",
            "3         0.722  0.7360    3    -6.994     0       0.0585         0.431   \n",
            "4         0.787  0.5720    1    -7.516     1       0.2220         0.145   \n",
            "\n",
            "   instrumentalness  liveness  valence    tempo  duration_ms  time_signature  \\\n",
            "0          0.000734    0.1000   0.6280   95.968       304524               4   \n",
            "1          0.000000    0.0912   0.5190  151.329       247178               4   \n",
            "2          0.897000    0.1020   0.0382   75.296       286987               4   \n",
            "3          0.000001    0.1230   0.5820   89.860       208920               4   \n",
            "4          0.000000    0.0753   0.6470  155.117       179413               4   \n",
            "\n",
            "   liked  \n",
            "0      0  \n",
            "1      1  \n",
            "2      0  \n",
            "3      1  \n",
            "4      1  \n"
          ]
        }
      ]
    },
    {
      "cell_type": "markdown",
      "source": [
        "**Data Exploration**"
      ],
      "metadata": {
        "id": "gbtb3bR4YgEh"
      }
    },
    {
      "cell_type": "code",
      "source": [
        "print(\"\\nDataset Info:\")\n",
        "print(df.info())\n",
        "print(\"\\nSummary Statistics:\")\n",
        "print(df.describe())"
      ],
      "metadata": {
        "colab": {
          "base_uri": "https://localhost:8080/"
        },
        "id": "yH53MEE9RIHl",
        "outputId": "7c94a342-a385-44b7-d891-2b49298a9f47"
      },
      "execution_count": null,
      "outputs": [
        {
          "output_type": "stream",
          "name": "stdout",
          "text": [
            "\n",
            "Dataset Info:\n",
            "<class 'pandas.core.frame.DataFrame'>\n",
            "RangeIndex: 195 entries, 0 to 194\n",
            "Data columns (total 14 columns):\n",
            " #   Column            Non-Null Count  Dtype  \n",
            "---  ------            --------------  -----  \n",
            " 0   danceability      195 non-null    float64\n",
            " 1   energy            195 non-null    float64\n",
            " 2   key               195 non-null    int64  \n",
            " 3   loudness          195 non-null    float64\n",
            " 4   mode              195 non-null    int64  \n",
            " 5   speechiness       195 non-null    float64\n",
            " 6   acousticness      195 non-null    float64\n",
            " 7   instrumentalness  195 non-null    float64\n",
            " 8   liveness          195 non-null    float64\n",
            " 9   valence           195 non-null    float64\n",
            " 10  tempo             195 non-null    float64\n",
            " 11  duration_ms       195 non-null    int64  \n",
            " 12  time_signature    195 non-null    int64  \n",
            " 13  liked             195 non-null    int64  \n",
            "dtypes: float64(9), int64(5)\n",
            "memory usage: 21.5 KB\n",
            "None\n",
            "\n",
            "Summary Statistics:\n",
            "       danceability      energy         key    loudness        mode  \\\n",
            "count    195.000000  195.000000  195.000000  195.000000  195.000000   \n",
            "mean       0.636656    0.638431    5.497436   -9.481631    0.538462   \n",
            "std        0.216614    0.260096    3.415209    6.525086    0.499802   \n",
            "min        0.130000    0.002400    0.000000  -42.261000    0.000000   \n",
            "25%        0.462500    0.533500    2.000000   -9.962000    0.000000   \n",
            "50%        0.705000    0.659000    6.000000   -7.766000    1.000000   \n",
            "75%        0.799000    0.837500    8.000000   -5.829000    1.000000   \n",
            "max        0.946000    0.996000   11.000000   -2.336000    1.000000   \n",
            "\n",
            "       speechiness  acousticness  instrumentalness    liveness     valence  \\\n",
            "count   195.000000    195.000000        195.000000  195.000000  195.000000   \n",
            "mean      0.148957      0.319093          0.192337    0.148455    0.493632   \n",
            "std       0.120414      0.320782          0.346226    0.105975    0.267695   \n",
            "min       0.027800      0.000003          0.000000    0.033100    0.035300   \n",
            "25%       0.056800      0.042200          0.000000    0.084000    0.269000   \n",
            "50%       0.096200      0.213000          0.000008    0.105000    0.525000   \n",
            "75%       0.230500      0.504000          0.097500    0.177000    0.717500   \n",
            "max       0.540000      0.995000          0.969000    0.633000    0.980000   \n",
            "\n",
            "            tempo    duration_ms  time_signature       liked  \n",
            "count  195.000000     195.000000      195.000000  195.000000  \n",
            "mean   121.086174  213408.933333        3.912821    0.512821  \n",
            "std     28.084829   72152.392864        0.451332    0.501122  \n",
            "min     60.171000   77203.000000        1.000000    0.000000  \n",
            "25%    100.242000  178300.500000        4.000000    0.000000  \n",
            "50%    124.896000  204000.000000        4.000000    1.000000  \n",
            "75%    142.460500  242373.500000        4.000000    1.000000  \n",
            "max    180.036000  655213.000000        5.000000    1.000000  \n"
          ]
        }
      ]
    },
    {
      "cell_type": "code",
      "source": [
        "print(\"\\nMissing values before cleaning:\\n\", df.isnull().sum())"
      ],
      "metadata": {
        "colab": {
          "base_uri": "https://localhost:8080/"
        },
        "id": "iHiDNANRRRw8",
        "outputId": "38d75469-c5b9-465e-a15a-4f496ce27385"
      },
      "execution_count": null,
      "outputs": [
        {
          "output_type": "stream",
          "name": "stdout",
          "text": [
            "\n",
            "Missing values before cleaning:\n",
            " danceability        0\n",
            "energy              0\n",
            "key                 0\n",
            "loudness            0\n",
            "mode                0\n",
            "speechiness         0\n",
            "acousticness        0\n",
            "instrumentalness    0\n",
            "liveness            0\n",
            "valence             0\n",
            "tempo               0\n",
            "duration_ms         0\n",
            "time_signature      0\n",
            "liked               0\n",
            "dtype: int64\n"
          ]
        }
      ]
    },
    {
      "cell_type": "code",
      "source": [
        "df = df.fillna(df.median(numeric_only=True))"
      ],
      "metadata": {
        "id": "MGhp6WdxRYBD"
      },
      "execution_count": null,
      "outputs": []
    },
    {
      "cell_type": "code",
      "source": [
        "print(\"\\nMissing values after cleaning:\\n\", df.isnull().sum())"
      ],
      "metadata": {
        "colab": {
          "base_uri": "https://localhost:8080/"
        },
        "id": "Y0abkp6jY33y",
        "outputId": "d8560792-b72a-40ca-be0e-ce2e74f565ba"
      },
      "execution_count": null,
      "outputs": [
        {
          "output_type": "stream",
          "name": "stdout",
          "text": [
            "\n",
            "Missing values after cleaning:\n",
            " danceability        0\n",
            "energy              0\n",
            "key                 0\n",
            "loudness            0\n",
            "mode                0\n",
            "speechiness         0\n",
            "acousticness        0\n",
            "instrumentalness    0\n",
            "liveness            0\n",
            "valence             0\n",
            "tempo               0\n",
            "duration_ms         0\n",
            "time_signature      0\n",
            "liked               0\n",
            "dtype: int64\n"
          ]
        }
      ]
    },
    {
      "cell_type": "markdown",
      "source": [
        "**Features & Target**"
      ],
      "metadata": {
        "id": "OUIhF9guYosp"
      }
    },
    {
      "cell_type": "code",
      "source": [
        "X = df.drop(\"liked\", axis=1)\n",
        "y = df[\"liked\"]"
      ],
      "metadata": {
        "id": "FIYRnrTxRh9O"
      },
      "execution_count": null,
      "outputs": []
    },
    {
      "cell_type": "markdown",
      "source": [
        "**Train-Test Split**"
      ],
      "metadata": {
        "id": "VA4xTjM1ZBKH"
      }
    },
    {
      "cell_type": "code",
      "source": [
        "X_train, X_test, y_train, y_test = train_test_split(\n",
        "    X, y, test_size=0.2, random_state=42\n",
        ")"
      ],
      "metadata": {
        "id": "rMn8EaBBRmhU"
      },
      "execution_count": null,
      "outputs": []
    },
    {
      "cell_type": "markdown",
      "source": [
        "**Logistic Regression**"
      ],
      "metadata": {
        "id": "HB_PIbdAZFld"
      }
    },
    {
      "cell_type": "code",
      "source": [
        "log_reg = LogisticRegression(max_iter=1000)\n",
        "log_reg.fit(X_train, y_train)\n",
        "y_pred_lr = log_reg.predict(X_test)"
      ],
      "metadata": {
        "colab": {
          "base_uri": "https://localhost:8080/"
        },
        "id": "K9R91GNARp4F",
        "outputId": "ff9effd7-6909-46d3-b99d-923852016b53"
      },
      "execution_count": null,
      "outputs": [
        {
          "output_type": "stream",
          "name": "stderr",
          "text": [
            "/usr/local/lib/python3.12/dist-packages/sklearn/linear_model/_logistic.py:465: ConvergenceWarning: lbfgs failed to converge (status=1):\n",
            "STOP: TOTAL NO. OF ITERATIONS REACHED LIMIT.\n",
            "\n",
            "Increase the number of iterations (max_iter) or scale the data as shown in:\n",
            "    https://scikit-learn.org/stable/modules/preprocessing.html\n",
            "Please also refer to the documentation for alternative solver options:\n",
            "    https://scikit-learn.org/stable/modules/linear_model.html#logistic-regression\n",
            "  n_iter_i = _check_optimize_result(\n"
          ]
        }
      ]
    },
    {
      "cell_type": "code",
      "source": [
        "print(\"\\n🔹 Logistic Regression Results\")\n",
        "print(\"Accuracy:\", accuracy_score(y_test, y_pred_lr))\n",
        "print(\"Confusion Matrix:\\n\", confusion_matrix(y_test, y_pred_lr))\n",
        "print(\"Classification Report:\\n\", classification_report(y_test, y_pred_lr))"
      ],
      "metadata": {
        "colab": {
          "base_uri": "https://localhost:8080/"
        },
        "id": "-DGHVdKeV5--",
        "outputId": "87a2df60-8e8b-4b2f-ab90-84dcb096d269"
      },
      "execution_count": null,
      "outputs": [
        {
          "output_type": "stream",
          "name": "stdout",
          "text": [
            "\n",
            "🔹 Logistic Regression Results\n",
            "Accuracy: 0.8717948717948718\n",
            "Confusion Matrix:\n",
            " [[17  2]\n",
            " [ 3 17]]\n",
            "Classification Report:\n",
            "               precision    recall  f1-score   support\n",
            "\n",
            "           0       0.85      0.89      0.87        19\n",
            "           1       0.89      0.85      0.87        20\n",
            "\n",
            "    accuracy                           0.87        39\n",
            "   macro avg       0.87      0.87      0.87        39\n",
            "weighted avg       0.87      0.87      0.87        39\n",
            "\n"
          ]
        }
      ]
    },
    {
      "cell_type": "markdown",
      "source": [
        "Random Forest Classifier"
      ],
      "metadata": {
        "id": "3NP3mYaOZJ8q"
      }
    },
    {
      "cell_type": "code",
      "source": [
        "rf = RandomForestClassifier(n_estimators=100, random_state=42)\n",
        "rf.fit(X_train, y_train)\n",
        "y_pred_rf = rf.predict(X_test)"
      ],
      "metadata": {
        "id": "-JqVfjNGV6IP"
      },
      "execution_count": null,
      "outputs": []
    },
    {
      "cell_type": "code",
      "source": [
        "print(\"\\n🔹 Random Forest Results\")\n",
        "print(\"Accuracy:\", accuracy_score(y_test, y_pred_rf))\n",
        "print(\"Confusion Matrix:\\n\", confusion_matrix(y_test, y_pred_rf))\n",
        "print(\"Classification Report:\\n\", classification_report(y_test, y_pred_rf))"
      ],
      "metadata": {
        "colab": {
          "base_uri": "https://localhost:8080/"
        },
        "id": "nbBw9jE8V6T9",
        "outputId": "d5daf050-8426-4919-b8cc-a6233ed194f2"
      },
      "execution_count": null,
      "outputs": [
        {
          "output_type": "stream",
          "name": "stdout",
          "text": [
            "\n",
            "🔹 Random Forest Results\n",
            "Accuracy: 0.9487179487179487\n",
            "Confusion Matrix:\n",
            " [[18  1]\n",
            " [ 1 19]]\n",
            "Classification Report:\n",
            "               precision    recall  f1-score   support\n",
            "\n",
            "           0       0.95      0.95      0.95        19\n",
            "           1       0.95      0.95      0.95        20\n",
            "\n",
            "    accuracy                           0.95        39\n",
            "   macro avg       0.95      0.95      0.95        39\n",
            "weighted avg       0.95      0.95      0.95        39\n",
            "\n"
          ]
        }
      ]
    },
    {
      "cell_type": "markdown",
      "source": [
        "**Feature Importance Visualization**"
      ],
      "metadata": {
        "id": "0YyLU4qFZM_f"
      }
    },
    {
      "cell_type": "code",
      "source": [
        "importances = pd.Series(rf.feature_importances_, index=X.columns)\n",
        "plt.figure(figsize=(10,6))\n",
        "importances.sort_values().plot(kind=\"barh\", title=\"Feature Importance (Random Forest)\")\n",
        "plt.show()"
      ],
      "metadata": {
        "colab": {
          "base_uri": "https://localhost:8080/",
          "height": 545
        },
        "id": "mJ-d6A4lWCyD",
        "outputId": "7e3541ed-ec1a-4dad-9d1d-645b8b05b5b7"
      },
      "execution_count": null,
      "outputs": [
        {
          "output_type": "display_data",
          "data": {
            "text/plain": [
              "<Figure size 1000x600 with 1 Axes>"
            ],
            "image/png": "[encoded data removed]"
          },
          "metadata": {}
        }
      ]
    }
  ]
}